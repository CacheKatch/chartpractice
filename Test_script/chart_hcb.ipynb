{
 "metadata": {
  "language_info": {
   "codemirror_mode": {
    "name": "ipython",
    "version": 3
   },
   "file_extension": ".py",
   "mimetype": "text/x-python",
   "name": "python",
   "nbconvert_exporter": "python",
   "pygments_lexer": "ipython3",
   "version": "3.7.10"
  },
  "orig_nbformat": 2,
  "kernelspec": {
   "name": "python3710jvsc74a57bd074540ffbd7636a540b0f30438ca57e4478c110dc46a314ee173f14ea2cb9391b",
   "display_name": "Python 3.7.10 64-bit ('scanyahplot': conda)"
  }
 },
 "nbformat": 4,
 "nbformat_minor": 2,
 "cells": [
  {
   "cell_type": "code",
   "execution_count": 26,
   "metadata": {},
   "outputs": [
    {
     "output_type": "stream",
     "name": "stderr",
     "text": [
      "C:\\Users\\caro_\\anaconda3\\envs\\scanyahplot\\lib\\site-packages\\numpy\\__init__.py:138: UserWarning: mkl-service package failed to import, therefore Intel(R) MKL initialization ensuring its correct out-of-the box operation under condition when Gnu OpenMP had already been loaded by Python process is not assured. Please install mkl-service package, see http://github.com/IntelPython/mkl-service\n  from . import _distributor_init\n"
     ]
    },
    {
     "output_type": "error",
     "ename": "ImportError",
     "evalue": "Unable to import required dependencies:\nnumpy: \n\nIMPORTANT: PLEASE READ THIS FOR ADVICE ON HOW TO SOLVE THIS ISSUE!\n\nImporting the numpy C-extensions failed. This error can happen for\nmany reasons, often due to issues with your setup or how NumPy was\ninstalled.\n\nWe have compiled some common reasons and troubleshooting tips at:\n\n    https://numpy.org/devdocs/user/troubleshooting-importerror.html\n\nPlease note and check the following:\n\n  * The Python version is: Python3.7 from \"C:\\Users\\caro_\\anaconda3\\envs\\scanyahplot\\python.exe\"\n  * The NumPy version is: \"1.19.2\"\n\nand make sure that they are the versions you expect.\nPlease carefully study the documentation linked above for further help.\n\nOriginal error was: DLL load failed: The specified module could not be found.\n",
     "traceback": [
      "\u001b[1;31m---------------------------------------------------------------------------\u001b[0m",
      "\u001b[1;31mImportError\u001b[0m                               Traceback (most recent call last)",
      "\u001b[1;32m<ipython-input-26-a6418c0993ec>\u001b[0m in \u001b[0;36m<module>\u001b[1;34m\u001b[0m\n\u001b[0;32m      1\u001b[0m \u001b[1;32mfrom\u001b[0m \u001b[0mpathlib\u001b[0m \u001b[1;32mimport\u001b[0m \u001b[0mPath\u001b[0m\u001b[1;33m\u001b[0m\u001b[1;33m\u001b[0m\u001b[0m\n\u001b[0;32m      2\u001b[0m \u001b[1;32mimport\u001b[0m \u001b[0mcsv\u001b[0m\u001b[1;33m\u001b[0m\u001b[1;33m\u001b[0m\u001b[0m\n\u001b[1;32m----> 3\u001b[1;33m \u001b[1;32mimport\u001b[0m \u001b[0mpandas\u001b[0m \u001b[1;32mas\u001b[0m \u001b[0mpd\u001b[0m\u001b[1;33m\u001b[0m\u001b[1;33m\u001b[0m\u001b[0m\n\u001b[0m\u001b[0;32m      4\u001b[0m \u001b[1;32mimport\u001b[0m \u001b[0mmatplotlib\u001b[0m\u001b[1;33m.\u001b[0m\u001b[0mpyplot\u001b[0m \u001b[1;32mas\u001b[0m \u001b[0mplt\u001b[0m\u001b[1;33m\u001b[0m\u001b[1;33m\u001b[0m\u001b[0m\n",
      "\u001b[1;32m~\\anaconda3\\envs\\scanyahplot\\lib\\site-packages\\pandas\\__init__.py\u001b[0m in \u001b[0;36m<module>\u001b[1;34m\u001b[0m\n\u001b[0;32m     15\u001b[0m \u001b[1;32mif\u001b[0m \u001b[0mmissing_dependencies\u001b[0m\u001b[1;33m:\u001b[0m\u001b[1;33m\u001b[0m\u001b[1;33m\u001b[0m\u001b[0m\n\u001b[0;32m     16\u001b[0m     raise ImportError(\n\u001b[1;32m---> 17\u001b[1;33m         \u001b[1;34m\"Unable to import required dependencies:\\n\"\u001b[0m \u001b[1;33m+\u001b[0m \u001b[1;34m\"\\n\"\u001b[0m\u001b[1;33m.\u001b[0m\u001b[0mjoin\u001b[0m\u001b[1;33m(\u001b[0m\u001b[0mmissing_dependencies\u001b[0m\u001b[1;33m)\u001b[0m\u001b[1;33m\u001b[0m\u001b[1;33m\u001b[0m\u001b[0m\n\u001b[0m\u001b[0;32m     18\u001b[0m     )\n\u001b[0;32m     19\u001b[0m \u001b[1;32mdel\u001b[0m \u001b[0mhard_dependencies\u001b[0m\u001b[1;33m,\u001b[0m \u001b[0mdependency\u001b[0m\u001b[1;33m,\u001b[0m \u001b[0mmissing_dependencies\u001b[0m\u001b[1;33m\u001b[0m\u001b[1;33m\u001b[0m\u001b[0m\n",
      "\u001b[1;31mImportError\u001b[0m: Unable to import required dependencies:\nnumpy: \n\nIMPORTANT: PLEASE READ THIS FOR ADVICE ON HOW TO SOLVE THIS ISSUE!\n\nImporting the numpy C-extensions failed. This error can happen for\nmany reasons, often due to issues with your setup or how NumPy was\ninstalled.\n\nWe have compiled some common reasons and troubleshooting tips at:\n\n    https://numpy.org/devdocs/user/troubleshooting-importerror.html\n\nPlease note and check the following:\n\n  * The Python version is: Python3.7 from \"C:\\Users\\caro_\\anaconda3\\envs\\scanyahplot\\python.exe\"\n  * The NumPy version is: \"1.19.2\"\n\nand make sure that they are the versions you expect.\nPlease carefully study the documentation linked above for further help.\n\nOriginal error was: DLL load failed: The specified module could not be found.\n"
     ]
    }
   ],
   "source": [
    "from pathlib import Path \n",
    "import csv\n",
    "import pandas as pd\n",
    "import matplotlib.pyplot as plt"
   ]
  },
  {
   "cell_type": "code",
   "execution_count": 23,
   "metadata": {},
   "outputs": [],
   "source": [
    "stock_list = ['TSLA', 'AAPL']\n",
    "stock = 'AAPL'"
   ]
  },
  {
   "cell_type": "code",
   "execution_count": 24,
   "metadata": {},
   "outputs": [],
   "source": [
    "'''\n",
    "This section is to open and read csv files\n",
    "\n",
    "'''\n",
    "csvpath = Path(f'../Resources/{stock}.csv')\n"
   ]
  },
  {
   "cell_type": "code",
   "execution_count": 25,
   "metadata": {},
   "outputs": [
    {
     "output_type": "execute_result",
     "data": {
      "text/plain": [
       "WindowsPath('../Resources/AAPL.csv')"
      ]
     },
     "metadata": {},
     "execution_count": 25
    }
   ],
   "source": [
    "csvpath"
   ]
  },
  {
   "cell_type": "code",
   "execution_count": 16,
   "metadata": {
    "tags": []
   },
   "outputs": [
    {
     "output_type": "stream",
     "name": "stdout",
     "text": [
      "4/15/2020\n4/16/2020\n4/17/2020\n4/20/2020\n4/21/2020\n4/22/2020\n4/23/2020\n4/24/2020\n4/27/2020\n4/28/2020\n4/29/2020\n4/30/2020\n5/1/2020\n5/4/2020\n5/5/2020\n5/6/2020\n5/7/2020\n5/8/2020\n5/11/2020\n5/12/2020\n5/13/2020\n5/14/2020\n5/15/2020\n5/18/2020\n5/19/2020\n5/20/2020\n5/21/2020\n5/22/2020\n5/26/2020\n5/27/2020\n5/28/2020\n5/29/2020\n6/1/2020\n6/2/2020\n6/3/2020\n6/4/2020\n6/5/2020\n6/8/2020\n6/9/2020\n6/10/2020\n6/11/2020\n6/12/2020\n6/15/2020\n6/16/2020\n6/17/2020\n6/18/2020\n6/19/2020\n6/22/2020\n6/23/2020\n6/24/2020\n6/25/2020\n6/26/2020\n6/29/2020\n6/30/2020\n7/1/2020\n7/2/2020\n7/6/2020\n7/7/2020\n7/8/2020\n7/9/2020\n7/10/2020\n7/13/2020\n7/14/2020\n7/15/2020\n7/16/2020\n7/17/2020\n7/20/2020\n7/21/2020\n7/22/2020\n7/23/2020\n7/24/2020\n7/27/2020\n7/28/2020\n7/29/2020\n7/30/2020\n7/31/2020\n8/3/2020\n8/4/2020\n8/5/2020\n8/6/2020\n8/7/2020\n8/10/2020\n8/11/2020\n8/12/2020\n8/13/2020\n8/14/2020\n8/17/2020\n8/18/2020\n8/19/2020\n8/20/2020\n8/21/2020\n8/24/2020\n8/25/2020\n8/26/2020\n8/27/2020\n8/28/2020\n8/31/2020\n9/1/2020\n9/2/2020\n9/3/2020\n9/4/2020\n9/8/2020\n9/9/2020\n9/10/2020\n9/11/2020\n9/14/2020\n9/15/2020\n9/16/2020\n9/17/2020\n9/18/2020\n9/21/2020\n9/22/2020\n9/23/2020\n9/24/2020\n9/25/2020\n9/28/2020\n9/29/2020\n9/30/2020\n10/1/2020\n10/2/2020\n10/5/2020\n10/6/2020\n10/7/2020\n10/8/2020\n10/9/2020\n10/12/2020\n10/13/2020\n10/14/2020\n10/15/2020\n10/16/2020\n10/19/2020\n10/20/2020\n10/21/2020\n10/22/2020\n10/23/2020\n10/26/2020\n10/27/2020\n10/28/2020\n10/29/2020\n10/30/2020\n11/2/2020\n11/3/2020\n11/4/2020\n11/5/2020\n11/6/2020\n11/9/2020\n11/10/2020\n11/11/2020\n11/12/2020\n11/13/2020\n11/16/2020\n11/17/2020\n11/18/2020\n11/19/2020\n11/20/2020\n11/23/2020\n11/24/2020\n11/25/2020\n11/27/2020\n11/30/2020\n12/1/2020\n12/2/2020\n12/3/2020\n12/4/2020\n12/7/2020\n12/8/2020\n12/9/2020\n12/10/2020\n12/11/2020\n12/14/2020\n12/15/2020\n12/16/2020\n12/17/2020\n12/18/2020\n12/21/2020\n12/22/2020\n12/23/2020\n12/24/2020\n12/28/2020\n12/29/2020\n12/30/2020\n12/31/2020\n1/4/2021\n1/5/2021\n1/6/2021\n1/7/2021\n1/8/2021\n1/11/2021\n1/12/2021\n1/13/2021\n1/14/2021\n1/15/2021\n1/19/2021\n1/20/2021\n1/21/2021\n1/22/2021\n1/25/2021\n1/26/2021\n1/27/2021\n1/28/2021\n1/29/2021\n2/1/2021\n2/2/2021\n2/3/2021\n2/4/2021\n2/5/2021\n2/8/2021\n2/9/2021\n2/10/2021\n2/11/2021\n2/12/2021\n2/16/2021\n2/17/2021\n2/18/2021\n2/19/2021\n2/22/2021\n2/23/2021\n2/24/2021\n2/25/2021\n2/26/2021\n3/1/2021\n3/2/2021\n3/3/2021\n3/4/2021\n3/5/2021\n3/8/2021\n3/9/2021\n3/10/2021\n3/11/2021\n3/12/2021\n3/15/2021\n3/16/2021\n3/17/2021\n3/18/2021\n3/19/2021\n3/22/2021\n3/23/2021\n3/24/2021\n3/25/2021\n3/26/2021\n3/29/2021\n3/30/2021\n3/31/2021\n4/1/2021\n4/5/2021\n4/6/2021\n4/7/2021\n4/8/2021\n4/9/2021\n4/12/2021\n4/13/2021\n"
     ]
    }
   ],
   "source": [
    "with open(csvpath, 'r') as csvfile:\n",
    "    #print(csv.reader(csvfile))\n",
    "    csvreader = csv.reader(csvfile, delimiter= ',')\n",
    "    #print(type(csvreader))\n",
    "    #print(csvreader)\n",
    "    header = next(csvreader)\n",
    "    #print(header)\n",
    "    for row in csvreader:\n",
    "        #print(row)\n",
    "        date = row[0]\n",
    "        "
   ]
  },
  {
   "cell_type": "code",
   "execution_count": null,
   "metadata": {},
   "outputs": [],
   "source": []
  }
 ]
}