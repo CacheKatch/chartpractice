{
 "metadata": {
  "language_info": {
   "codemirror_mode": {
    "name": "ipython",
    "version": 3
   },
   "file_extension": ".py",
   "mimetype": "text/x-python",
   "name": "python",
   "nbconvert_exporter": "python",
   "pygments_lexer": "ipython3",
   "version": "3.7.10"
  },
  "orig_nbformat": 2,
  "kernelspec": {
   "name": "python3710jvsc74a57bd0cc5478490cc791245a02492f9cbd376db745860ce2b148857f9775674b91477d",
   "display_name": "Python 3.7.10 64-bit ('scanyahoo': conda)"
  }
 },
 "nbformat": 4,
 "nbformat_minor": 2,
 "cells": [
  {
   "cell_type": "code",
   "execution_count": 1,
   "metadata": {},
   "outputs": [],
   "source": [
    "from pandas_datareader import data as pdr\n",
    "from yahoo_finance import Share as sshare\n",
    "from yahoo_fin import stock_info as si \n",
    "from pandas import ExcelWriter\n",
    "import yfinance as yf\n",
    "import pandas as pd\n",
    "import datetime\n",
    "import time"
   ]
  },
  {
   "cell_type": "code",
   "execution_count": 2,
   "metadata": {},
   "outputs": [],
   "source": [
    "yf.pdr_override()"
   ]
  },
  {
   "cell_type": "code",
   "execution_count": 3,
   "metadata": {},
   "outputs": [],
   "source": [
    "stock_to_pull = 'AAPL'"
   ]
  },
  {
   "cell_type": "code",
   "execution_count": 4,
   "metadata": {},
   "outputs": [
    {
     "output_type": "execute_result",
     "data": {
      "text/plain": [
       "datetime.datetime(2020, 4, 14, 12, 20, 51, 605087)"
      ]
     },
     "metadata": {},
     "execution_count": 4
    }
   ],
   "source": [
    "start_date = datetime.datetime.now() - datetime.timedelta(days=365) # this is to setup start time based on a delta rather than fixed time\n",
    "start_date"
   ]
  },
  {
   "cell_type": "code",
   "execution_count": 5,
   "metadata": {},
   "outputs": [
    {
     "output_type": "execute_result",
     "data": {
      "text/plain": [
       "datetime.date(2021, 4, 14)"
      ]
     },
     "metadata": {},
     "execution_count": 5
    }
   ],
   "source": [
    "end_date =datetime.date.today()\n",
    "end_date"
   ]
  },
  {
   "cell_type": "code",
   "execution_count": 6,
   "metadata": {},
   "outputs": [
    {
     "output_type": "stream",
     "name": "stdout",
     "text": [
      "[*********************100%***********************]  1 of 1 completed\n"
     ]
    }
   ],
   "source": [
    "stock_df = pdr.get_data_yahoo(stock_to_pull, start_date, end_date)"
   ]
  },
  {
   "cell_type": "code",
   "execution_count": 7,
   "metadata": {},
   "outputs": [
    {
     "output_type": "execute_result",
     "data": {
      "text/plain": [
       "                 Open       High        Low      Close  Adj Close     Volume\n",
       "Date                                                                        \n",
       "2020-04-14  70.000000  72.062500  69.512497  71.762497  71.210495  194994800\n",
       "2020-04-15  70.599998  71.582497  70.157501  71.107498  70.560539  131154400\n",
       "2020-04-16  71.845001  72.050003  70.587502  71.672501  71.121201  157125200\n",
       "2020-04-17  71.172501  71.737503  69.214996  70.699997  70.156174  215250000\n",
       "2020-04-20  69.487503  70.419998  69.212502  69.232498  68.699974  130015200"
      ],
      "text/html": "<div>\n<style scoped>\n    .dataframe tbody tr th:only-of-type {\n        vertical-align: middle;\n    }\n\n    .dataframe tbody tr th {\n        vertical-align: top;\n    }\n\n    .dataframe thead th {\n        text-align: right;\n    }\n</style>\n<table border=\"1\" class=\"dataframe\">\n  <thead>\n    <tr style=\"text-align: right;\">\n      <th></th>\n      <th>Open</th>\n      <th>High</th>\n      <th>Low</th>\n      <th>Close</th>\n      <th>Adj Close</th>\n      <th>Volume</th>\n    </tr>\n    <tr>\n      <th>Date</th>\n      <th></th>\n      <th></th>\n      <th></th>\n      <th></th>\n      <th></th>\n      <th></th>\n    </tr>\n  </thead>\n  <tbody>\n    <tr>\n      <th>2020-04-14</th>\n      <td>70.000000</td>\n      <td>72.062500</td>\n      <td>69.512497</td>\n      <td>71.762497</td>\n      <td>71.210495</td>\n      <td>194994800</td>\n    </tr>\n    <tr>\n      <th>2020-04-15</th>\n      <td>70.599998</td>\n      <td>71.582497</td>\n      <td>70.157501</td>\n      <td>71.107498</td>\n      <td>70.560539</td>\n      <td>131154400</td>\n    </tr>\n    <tr>\n      <th>2020-04-16</th>\n      <td>71.845001</td>\n      <td>72.050003</td>\n      <td>70.587502</td>\n      <td>71.672501</td>\n      <td>71.121201</td>\n      <td>157125200</td>\n    </tr>\n    <tr>\n      <th>2020-04-17</th>\n      <td>71.172501</td>\n      <td>71.737503</td>\n      <td>69.214996</td>\n      <td>70.699997</td>\n      <td>70.156174</td>\n      <td>215250000</td>\n    </tr>\n    <tr>\n      <th>2020-04-20</th>\n      <td>69.487503</td>\n      <td>70.419998</td>\n      <td>69.212502</td>\n      <td>69.232498</td>\n      <td>68.699974</td>\n      <td>130015200</td>\n    </tr>\n  </tbody>\n</table>\n</div>"
     },
     "metadata": {},
     "execution_count": 7
    }
   ],
   "source": [
    "stock_df.head()"
   ]
  },
  {
   "cell_type": "code",
   "execution_count": 9,
   "metadata": {},
   "outputs": [],
   "source": [
    "stock_df.to_csv(f'{stock_to_pull}.csv')"
   ]
  },
  {
   "cell_type": "code",
   "execution_count": 10,
   "metadata": {},
   "outputs": [
    {
     "output_type": "stream",
     "name": "stdout",
     "text": [
      "[*********************100%***********************]  1 of 1 completed\n",
      "[*********************100%***********************]  1 of 1 completed\n",
      "[*********************100%***********************]  1 of 1 completed\n",
      "[*********************100%***********************]  1 of 1 completed\n",
      "[*********************100%***********************]  1 of 1 completed\n",
      "[*********************100%***********************]  1 of 1 completed\n",
      "[*********************100%***********************]  1 of 1 completed\n"
     ]
    }
   ],
   "source": [
    "tickers_list = ['AAPL', 'AMZN', 'CMG', 'EBAY', 'GOOG', 'MSFT', 'TSLA']\n",
    "for eachstock in tickers_list:\n",
    "    df = pdr.get_data_yahoo(eachstock,start_date, end_date)\n",
    "    df.to_csv(f'{eachstock}.csv')"
   ]
  },
  {
   "cell_type": "code",
   "execution_count": 13,
   "metadata": {},
   "outputs": [
    {
     "output_type": "stream",
     "name": "stdout",
     "text": [
      "[*********************100%***********************]  1 of 1 completed\n"
     ]
    }
   ],
   "source": [
    "stock_df = pdr.get_data_yahoo(stock_to_pull, start_date, end_date, interval='5d')"
   ]
  },
  {
   "cell_type": "code",
   "execution_count": 14,
   "metadata": {},
   "outputs": [
    {
     "output_type": "execute_result",
     "data": {
      "text/plain": [
       "                 Open       High        Low      Close  Adj Close       Volume\n",
       "Date                                                                          \n",
       "2020-04-14  70.000000  72.062500  69.512497  71.762497  71.210495  194994800.0\n",
       "2020-04-24  69.300003  70.752502  69.250000  70.742500  70.198349  126508800.0\n",
       "2020-04-29  71.182503  72.417503  70.972504  71.932503  71.379196  137280800.0\n",
       "2020-05-04  72.292503  73.422501  71.580002  73.290001  72.726265  133568000.0\n",
       "2020-05-08        NaN        NaN        NaN        NaN        NaN          NaN"
      ],
      "text/html": "<div>\n<style scoped>\n    .dataframe tbody tr th:only-of-type {\n        vertical-align: middle;\n    }\n\n    .dataframe tbody tr th {\n        vertical-align: top;\n    }\n\n    .dataframe thead th {\n        text-align: right;\n    }\n</style>\n<table border=\"1\" class=\"dataframe\">\n  <thead>\n    <tr style=\"text-align: right;\">\n      <th></th>\n      <th>Open</th>\n      <th>High</th>\n      <th>Low</th>\n      <th>Close</th>\n      <th>Adj Close</th>\n      <th>Volume</th>\n    </tr>\n    <tr>\n      <th>Date</th>\n      <th></th>\n      <th></th>\n      <th></th>\n      <th></th>\n      <th></th>\n      <th></th>\n    </tr>\n  </thead>\n  <tbody>\n    <tr>\n      <th>2020-04-14</th>\n      <td>70.000000</td>\n      <td>72.062500</td>\n      <td>69.512497</td>\n      <td>71.762497</td>\n      <td>71.210495</td>\n      <td>194994800.0</td>\n    </tr>\n    <tr>\n      <th>2020-04-24</th>\n      <td>69.300003</td>\n      <td>70.752502</td>\n      <td>69.250000</td>\n      <td>70.742500</td>\n      <td>70.198349</td>\n      <td>126508800.0</td>\n    </tr>\n    <tr>\n      <th>2020-04-29</th>\n      <td>71.182503</td>\n      <td>72.417503</td>\n      <td>70.972504</td>\n      <td>71.932503</td>\n      <td>71.379196</td>\n      <td>137280800.0</td>\n    </tr>\n    <tr>\n      <th>2020-05-04</th>\n      <td>72.292503</td>\n      <td>73.422501</td>\n      <td>71.580002</td>\n      <td>73.290001</td>\n      <td>72.726265</td>\n      <td>133568000.0</td>\n    </tr>\n    <tr>\n      <th>2020-05-08</th>\n      <td>NaN</td>\n      <td>NaN</td>\n      <td>NaN</td>\n      <td>NaN</td>\n      <td>NaN</td>\n      <td>NaN</td>\n    </tr>\n  </tbody>\n</table>\n</div>"
     },
     "metadata": {},
     "execution_count": 14
    }
   ],
   "source": [
    "stock_df.head()"
   ]
  },
  {
   "cell_type": "code",
   "execution_count": null,
   "metadata": {},
   "outputs": [],
   "source": []
  }
 ]
}