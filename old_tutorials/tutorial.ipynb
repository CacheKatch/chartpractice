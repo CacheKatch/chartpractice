{
 "metadata": {
  "language_info": {
   "codemirror_mode": {
    "name": "ipython",
    "version": 3
   },
   "file_extension": ".py",
   "mimetype": "text/x-python",
   "name": "python",
   "nbconvert_exporter": "python",
   "pygments_lexer": "ipython3",
   "version": "3.8.5"
  },
  "orig_nbformat": 2,
  "kernelspec": {
   "name": "python385jvsc74a57bd09796c8cbf361709f93ab57d7ad32d1f934a28a97ccc5de975307362b6b874d02",
   "display_name": "Python 3.8.5 64-bit ('base': conda)"
  }
 },
 "nbformat": 4,
 "nbformat_minor": 2,
 "cells": [
  {
   "cell_type": "code",
   "execution_count": 3,
   "metadata": {},
   "outputs": [],
   "source": [
    "import urllib.request as urllib2\n",
    "import time"
   ]
  },
  {
   "cell_type": "code",
   "execution_count": 4,
   "metadata": {},
   "outputs": [],
   "source": [
    "stock_to_pull = 'AAPL'"
   ]
  },
  {
   "cell_type": "code",
   "execution_count": 8,
   "metadata": {},
   "outputs": [],
   "source": [
    "def pulldata(stock):\n",
    "    try:\n",
    "        file_line = stock+'.txt'\n",
    "        url_to_visit = 'http://chartapi.finance.yahoo.com/instrument/1.0/'+stock+'/chartdata;type=quote;range=1y/csv'\n",
    "        source_code = urllib2.urlopen(url_to_visit).read()\n",
    "        split_source = source_code.split('\\n')\n",
    "        for eachline in split_source:\n",
    "            split_line = eachline.split(',')\n",
    "            if len(split_line)==6:\n",
    "                if 'values' not in eachline:\n",
    "                    save_file = open(file_line, 'a')\n",
    "                    line_2_write = eachline+'\\n'\n",
    "                    save_file.write(line_2_write)\n",
    "        print('Pulled', stock)\n",
    "        print('sleeping')\n",
    "        time.sleep(5)\n",
    "    except Exception as e:\n",
    "        print (str(e))"
   ]
  },
  {
   "cell_type": "code",
   "execution_count": 9,
   "metadata": {},
   "outputs": [
    {
     "output_type": "stream",
     "name": "stdout",
     "text": [
      "<urlopen error [Errno 11001] getaddrinfo failed>\n"
     ]
    }
   ],
   "source": [
    "pulldata(stock_to_pull)"
   ]
  },
  {
   "cell_type": "code",
   "execution_count": null,
   "metadata": {},
   "outputs": [],
   "source": []
  }
 ]
}